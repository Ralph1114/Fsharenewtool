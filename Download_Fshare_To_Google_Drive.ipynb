{
  "nbformat": 4,
  "nbformat_minor": 0,
  "metadata": {
    "colab": {
      "provenance": [],
      "include_colab_link": true
    },
    "kernelspec": {
      "name": "python3",
      "display_name": "Python 3"
    },
    "language_info": {
      "name": "python"
    }
  },
  "cells": [
    {
      "cell_type": "markdown",
      "metadata": {
        "id": "view-in-github",
        "colab_type": "text"
      },
      "source": [
        "<a href=\"https://colab.research.google.com/github/Ralph1114/Fsharenewtool/blob/main/Download_Fshare_To_Google_Drive.ipynb\" target=\"_parent\"><img src=\"https://colab.research.google.com/assets/colab-badge.svg\" alt=\"Open In Colab\"/></a>"
      ]
    },
    {
      "cell_type": "markdown",
      "source": [
        "**Công Cụ Tải Nhanh Fshare Vào Drive**\n",
        "\n",
        "> Code tham khảo từ: https://github.com/lvdat\n",
        "Và https://github.com/duythongle/fshare2gdrive\n",
        "\n",
        "> Phát triển: [Khánh Vũ]\n",
        "\n"
      ],
      "metadata": {
        "id": "PJN-kp2oo0Q9"
      }
    },
    {
      "cell_type": "markdown",
      "source": [
        "**1.Thêm Drive Vào Colab và tải công cụ từ Github**"
      ],
      "metadata": {
        "id": "yUk3RrFJpsmq"
      }
    },
    {
      "cell_type": "code",
      "execution_count": 5,
      "metadata": {
        "id": "eTPcORDLoud0",
        "outputId": "e7b65c8c-17be-49d6-b0a3-773f85f950d0",
        "colab": {
          "base_uri": "https://localhost:8080/"
        }
      },
      "outputs": [
        {
          "output_type": "stream",
          "name": "stdout",
          "text": [
            "Drive already mounted at /content/drive; to attempt to forcibly remount, call drive.mount(\"/content/drive\", force_remount=True).\n",
            "--2025-05-06 01:01:30--  https://github.com/Ralph1114/Fsharenewtool/archive/refs/heads/main.zip\n",
            "Resolving github.com (github.com)... 140.82.113.3\n",
            "Connecting to github.com (github.com)|140.82.113.3|:443... connected.\n",
            "HTTP request sent, awaiting response... 302 Found\n",
            "Location: https://codeload.github.com/Ralph1114/Fsharenewtool/zip/refs/heads/main [following]\n",
            "--2025-05-06 01:01:30--  https://codeload.github.com/Ralph1114/Fsharenewtool/zip/refs/heads/main\n",
            "Resolving codeload.github.com (codeload.github.com)... 140.82.113.10\n",
            "Connecting to codeload.github.com (codeload.github.com)|140.82.113.10|:443... connected.\n",
            "HTTP request sent, awaiting response... 200 OK\n",
            "Length: unspecified [application/zip]\n",
            "Saving to: ‘main.zip.1’\n",
            "\n",
            "main.zip.1              [ <=>                ]   5.97K  --.-KB/s    in 0s      \n",
            "\n",
            "2025-05-06 01:01:30 (45.9 MB/s) - ‘main.zip.1’ saved [6115]\n",
            "\n",
            "Archive:  main.zip\n",
            "46778eb5b20bf37f6b53a8ebfd842a1917b1a77c\n",
            "  inflating: Fsharenewtool-main/config.ini  \n",
            "  inflating: Fsharenewtool-main/config.ini.example  \n",
            "  inflating: Fsharenewtool-main/f_dl.py  \n",
            "  inflating: Fsharenewtool-main/function.py  \n",
            "  inflating: Fsharenewtool-main/login_fshare.py  \n",
            "  inflating: Fsharenewtool-main/readme.md  \n",
            " extracting: Fsharenewtool-main/requirements.txt  \n",
            "/content/Fsharenewtool-main\n",
            "Collecting enlighten==1.10.2 (from -r requirements.txt (line 1))\n",
            "  Downloading enlighten-1.10.2-py2.py3-none-any.whl.metadata (10 kB)\n",
            "Collecting requests==2.27.1 (from -r requirements.txt (line 2))\n",
            "  Downloading requests-2.27.1-py2.py3-none-any.whl.metadata (5.0 kB)\n",
            "Collecting blessed>=1.17.7 (from enlighten==1.10.2->-r requirements.txt (line 1))\n",
            "  Downloading blessed-1.21.0-py2.py3-none-any.whl.metadata (13 kB)\n",
            "Collecting prefixed>=0.3.2 (from enlighten==1.10.2->-r requirements.txt (line 1))\n",
            "  Downloading prefixed-0.9.0-py2.py3-none-any.whl.metadata (11 kB)\n",
            "Collecting urllib3<1.27,>=1.21.1 (from requests==2.27.1->-r requirements.txt (line 2))\n",
            "  Downloading urllib3-1.26.20-py2.py3-none-any.whl.metadata (50 kB)\n",
            "\u001b[2K     \u001b[90m━━━━━━━━━━━━━━━━━━━━━━━━━━━━━━━━━━━━━━━━\u001b[0m \u001b[32m50.1/50.1 kB\u001b[0m \u001b[31m3.5 MB/s\u001b[0m eta \u001b[36m0:00:00\u001b[0m\n",
            "\u001b[?25hRequirement already satisfied: certifi>=2017.4.17 in /usr/local/lib/python3.11/dist-packages (from requests==2.27.1->-r requirements.txt (line 2)) (2025.4.26)\n",
            "Collecting charset-normalizer~=2.0.0 (from requests==2.27.1->-r requirements.txt (line 2))\n",
            "  Downloading charset_normalizer-2.0.12-py3-none-any.whl.metadata (11 kB)\n",
            "Requirement already satisfied: idna<4,>=2.5 in /usr/local/lib/python3.11/dist-packages (from requests==2.27.1->-r requirements.txt (line 2)) (3.10)\n",
            "Requirement already satisfied: wcwidth>=0.1.4 in /usr/local/lib/python3.11/dist-packages (from blessed>=1.17.7->enlighten==1.10.2->-r requirements.txt (line 1)) (0.2.13)\n",
            "Downloading enlighten-1.10.2-py2.py3-none-any.whl (53 kB)\n",
            "\u001b[2K   \u001b[90m━━━━━━━━━━━━━━━━━━━━━━━━━━━━━━━━━━━━━━━━\u001b[0m \u001b[32m53.4/53.4 kB\u001b[0m \u001b[31m4.1 MB/s\u001b[0m eta \u001b[36m0:00:00\u001b[0m\n",
            "\u001b[?25hDownloading requests-2.27.1-py2.py3-none-any.whl (63 kB)\n",
            "\u001b[2K   \u001b[90m━━━━━━━━━━━━━━━━━━━━━━━━━━━━━━━━━━━━━━━━\u001b[0m \u001b[32m63.1/63.1 kB\u001b[0m \u001b[31m4.7 MB/s\u001b[0m eta \u001b[36m0:00:00\u001b[0m\n",
            "\u001b[?25hDownloading blessed-1.21.0-py2.py3-none-any.whl (84 kB)\n",
            "\u001b[2K   \u001b[90m━━━━━━━━━━━━━━━━━━━━━━━━━━━━━━━━━━━━━━━━\u001b[0m \u001b[32m84.7/84.7 kB\u001b[0m \u001b[31m6.4 MB/s\u001b[0m eta \u001b[36m0:00:00\u001b[0m\n",
            "\u001b[?25hDownloading charset_normalizer-2.0.12-py3-none-any.whl (39 kB)\n",
            "Downloading prefixed-0.9.0-py2.py3-none-any.whl (13 kB)\n",
            "Downloading urllib3-1.26.20-py2.py3-none-any.whl (144 kB)\n",
            "\u001b[2K   \u001b[90m━━━━━━━━━━━━━━━━━━━━━━━━━━━━━━━━━━━━━━━━\u001b[0m \u001b[32m144.2/144.2 kB\u001b[0m \u001b[31m11.8 MB/s\u001b[0m eta \u001b[36m0:00:00\u001b[0m\n",
            "\u001b[?25hInstalling collected packages: prefixed, urllib3, charset-normalizer, blessed, requests, enlighten\n",
            "  Attempting uninstall: urllib3\n",
            "    Found existing installation: urllib3 2.4.0\n",
            "    Uninstalling urllib3-2.4.0:\n",
            "      Successfully uninstalled urllib3-2.4.0\n",
            "  Attempting uninstall: charset-normalizer\n",
            "    Found existing installation: charset-normalizer 3.4.1\n",
            "    Uninstalling charset-normalizer-3.4.1:\n",
            "      Successfully uninstalled charset-normalizer-3.4.1\n",
            "  Attempting uninstall: requests\n",
            "    Found existing installation: requests 2.32.3\n",
            "    Uninstalling requests-2.32.3:\n",
            "      Successfully uninstalled requests-2.32.3\n",
            "\u001b[31mERROR: pip's dependency resolver does not currently take into account all the packages that are installed. This behaviour is the source of the following dependency conflicts.\n",
            "google-colab 1.0.0 requires requests==2.32.3, but you have requests 2.27.1 which is incompatible.\n",
            "sphinx 8.2.3 requires requests>=2.30.0, but you have requests 2.27.1 which is incompatible.\n",
            "yfinance 0.2.57 requires requests>=2.31, but you have requests 2.27.1 which is incompatible.\n",
            "google-genai 1.13.0 requires requests<3.0.0,>=2.28.1, but you have requests 2.27.1 which is incompatible.\u001b[0m\u001b[31m\n",
            "\u001b[0mSuccessfully installed blessed-1.21.0 charset-normalizer-2.0.12 enlighten-1.10.2 prefixed-0.9.0 requests-2.27.1 urllib3-1.26.20\n"
          ]
        }
      ],
      "source": [
        "from google.colab import drive\n",
        "pip install requests==2.31.0 urllib3==1.26.15 charset_normalizer==3.2.0 --force-reinstall\n",
        "drive.mount('/content/drive')\n",
        "!wget https://github.com/Ralph1114/Fsharenewtool/archive/refs/heads/main.zip\n",
        "!unzip -o main.zip\n",
        "%cd Fsharenewtool-main\n",
        "!pip install -r requirements.txt"
      ]
    },
    {
      "cell_type": "markdown",
      "source": [
        "**2.Đăng nhập Fshare**"
      ],
      "metadata": {
        "id": "22tYNouYtYhJ"
      }
    },
    {
      "cell_type": "code",
      "source": [
        "!python login_fshare.py"
      ],
      "metadata": {
        "id": "ZTwE9bpBtiPu",
        "outputId": "724c508f-2fa4-45d1-c23a-9d9be229a74a",
        "colab": {
          "base_uri": "https://localhost:8080/"
        }
      },
      "execution_count": 7,
      "outputs": [
        {
          "output_type": "stream",
          "name": "stdout",
          "text": [
            "/usr/local/lib/python3.11/dist-packages/requests/__init__.py:102: RequestsDependencyWarning: urllib3 (1.26.20) or chardet (5.2.0)/charset_normalizer (2.0.12) doesn't match a supported version!\n",
            "  warnings.warn(\"urllib3 ({}) or chardet ({})/charset_normalizer ({}) doesn't match a supported \"\n",
            "-> Connecting to Fshare... \n",
            "-> Done!\n"
          ]
        }
      ]
    },
    {
      "cell_type": "markdown",
      "source": [
        "**3.Tải Fshare**\n",
        "Hướng dẫn: !python f_dl.py \"link fshare\""
      ],
      "metadata": {
        "id": "ULdjPsVytoWm"
      }
    },
    {
      "cell_type": "code",
      "source": [
        "!python f_dl.py https://www.fshare.vn/folder/PH1EP3YBDNXG7DZ"
      ],
      "metadata": {
        "id": "V4UtQ-SQtnwG",
        "outputId": "7e40ddd1-37f6-4554-c3d6-8f4ea65a309b",
        "colab": {
          "base_uri": "https://localhost:8080/"
        }
      },
      "execution_count": null,
      "outputs": [
        {
          "output_type": "stream",
          "name": "stdout",
          "text": [
            "/usr/local/lib/python3.11/dist-packages/requests/__init__.py:102: RequestsDependencyWarning: urllib3 (1.26.20) or chardet (5.2.0)/charset_normalizer (2.0.12) doesn't match a supported version!\n",
            "  warnings.warn(\"urllib3 ({}) or chardet ({})/charset_normalizer ({}) doesn't match a supported \"\n",
            "-> Connecting to Fshare...\n",
            "-> Skipping Big.Biz.Duel.2024.E01.ViE.2160p.WEB-DL.H265.AAC.CHS.PPhim.mkv, already exists at destination.\n",
            "-> Skipping Jade.Big.Biz.Duel.2024.E01.ViE.1080p.HDTV.HEVC.AAC.PPhim.mkv, already exists at destination.\n",
            "-> Skipping Big.Biz.Duel.2024.E03.ViE.2160p.WEB-DL.H265.AAC.CHS.PPhim.mkv, already exists at destination.\n",
            "-> Skipping Big.Biz.Duel.2024.E07.ViE.2160p.WEB-DL.H265.AAC.CHS.PPhim.mkv, already exists at destination.\n",
            "-> Skipping Big.Biz.Duel.2024.E02.ViE.2160p.WEB-DL.H265.AAC.CHS.PPhim.mkv, already exists at destination.\n",
            "-> Skipping Big.Biz.Duel.2024.E15.ViE.2160p.WEB-DL.H265.AAC.CHS.PPhim.mkv, already exists at destination.\n",
            "-> Skipping Big.Biz.Duel.2024.E13.ViE.2160p.WEB-DL.H265.AAC.CHS.PPhim.mkv, already exists at destination.\n",
            "-> Skipping Big.Biz.Duel.2024.E11.ViE.2160p.WEB-DL.H265.AAC.CHS.PPhim.mkv, already exists at destination.\n",
            "-> Skipping Big.Biz.Duel.2024.E10.ViE.2160p.WEB-DL.H265.AAC.CHS.PPhim.mkv, already exists at destination.\n",
            "-> Skipping Big.Biz.Duel.2024.E12.ViE.2160p.WEB-DL.H265.AAC.CHS.PPhim.mkv, already exists at destination.\n",
            "-> Skipping Big.Biz.Duel.2024.E08.ViE.2160p.WEB-DL.H265.AAC.CHS.PPhim.mkv, already exists at destination.\n",
            "-> Skipping Big.Biz.Duel.2024.E14.ViE.2160p.WEB-DL.H265.AAC.CHS.PPhim.mkv, already exists at destination.\n",
            "-> Skipping Big.Biz.Duel.2024.E06.ViE.2160p.WEB-DL.H265.AAC.CHS.PPhim.mkv, already exists at destination.\n",
            "-> Skipping Big.Biz.Duel.2024.E09.ViE.2160p.WEB-DL.H265.AAC.CHS.PPhim.mkv, already exists at destination.\n",
            "-> Skipping Big.Biz.Duel.2024.E05.ViE.2160p.WEB-DL.H265.AAC.CHS.PPhim.mkv, already exists at destination.\n",
            "-> Skipping Big.Biz.Duel.2024.E04.ViE.2160p.WEB-DL.H265.AAC.CHS.PPhim.mkv, already exists at destination.\n",
            "-> Skipping Jade.Big.Biz.Duel.2024.E14.ViE.1080p.HDTV.HEVC.AAC.PPhim.mkv, already exists at destination.\n",
            "-> Skipping Jade.Big.Biz.Duel.2024.E15.ViE.1080p.HDTV.HEVC.AAC.PPhim.mkv, already exists at destination.\n",
            "-> Skipping Jade.Big.Biz.Duel.2024.E06.ViE.1080p.HDTV.HEVC.AAC.PPhim.mkv, already exists at destination.\n",
            "-> Skipping Jade.Big.Biz.Duel.2024.E03.ViE.1080p.HDTV.HEVC.AAC.PPhim.mkv, already exists at destination.\n",
            "-> Skipping Jade.Big.Biz.Duel.2024.E05.ViE.1080p.HDTV.HEVC.AAC.PPhim.mkv, already exists at destination.\n",
            "-> Skipping Jade.Big.Biz.Duel.2024.E09.ViE.1080p.HDTV.HEVC.AAC.PPhim.mkv, already exists at destination.\n",
            "-> Skipping Jade.Big.Biz.Duel.2024.E02.ViE.1080p.HDTV.HEVC.AAC.PPhim.mkv, already exists at destination.\n",
            "-> Skipping Jade.Big.Biz.Duel.2024.E10.ViE.1080p.HDTV.HEVC.AAC.PPhim.mkv, already exists at destination.\n",
            "-> Skipping Jade.Big.Biz.Duel.2024.E04.ViE.1080p.HDTV.HEVC.AAC.PPhim.mkv, already exists at destination.\n",
            "-> Skipping Jade.Big.Biz.Duel.2024.E11.ViE.1080p.HDTV.HEVC.AAC.PPhim.mkv, already exists at destination.\n",
            "-> Skipping Jade.Big.Biz.Duel.2024.E12.ViE.1080p.HDTV.HEVC.AAC.PPhim.mkv, already exists at destination.\n",
            "-> Skipping Jade.Big.Biz.Duel.2024.E08.ViE.1080p.HDTV.HEVC.AAC.PPhim.mkv, already exists at destination.\n",
            "-> Skipping Jade.Big.Biz.Duel.2024.E07.ViE.1080p.HDTV.HEVC.AAC.PPhim.mkv, already exists at destination.\n",
            "-> Skipping Jade.Big.Biz.Duel.2024.E13.ViE.1080p.HDTV.HEVC.AAC.PPhim.mkv, already exists at destination.\n",
            "┌───────────┐\n",
            "| File Info |\n",
            "└───────────┘\n",
            "-> File Name: The.Demon.Hunter.2025.2160p.EDR.WEB-DL.DDP5.1.H265-ParkHD (Vietsub).mkv\n",
            "-> Save Folder: /content/drive/MyDrive/Moviesall/media/movies/All/\n",
            "-> File Size:  10.10 GB (10345 MB)\n",
            "\u001b[1;1H\n",
            "\u001b[K  8%|\u001b[32m\u001b[m|   840/10345 [01:38<18:23, 8.61 MiB/s]\u001b[1;1H\u001b[1;1H"
          ]
        }
      ]
    }
  ]
}