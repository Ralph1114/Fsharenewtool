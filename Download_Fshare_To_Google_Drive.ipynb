{
  "nbformat": 4,
  "nbformat_minor": 0,
  "metadata": {
    "colab": {
      "provenance": []
    },
    "kernelspec": {
      "name": "python3",
      "display_name": "Python 3"
    },
    "language_info": {
      "name": "python"
    }
  },
  "cells": [
    {
      "cell_type": "markdown",
      "source": [
        "**Công Cụ Tải Nhanh Fshare Vào Drive**\n",
        "\n",
        "> Code tham khảo từ: https://github.com/lvdat\n",
        "Và https://github.com/duythongle/fshare2gdrive\n",
        "\n",
        "> Phát triển: [Khánh Vũ]\n",
        "\n"
      ],
      "metadata": {
        "id": "PJN-kp2oo0Q9"
      }
    },
    {
      "cell_type": "markdown",
      "source": [
        "**1.Cập nhật thư viện python**"
      ],
      "metadata": {
        "id": "O-nxAMmj_XR1"
      }
    },
    {
      "cell_type": "code",
      "source": [
        "!pip install --upgrade requests urllib3 charset_normalizer certifi\n",
        "!pip install enlighten"
      ],
      "metadata": {
        "id": "Oh5bf_3P_lTv"
      },
      "execution_count": null,
      "outputs": []
    },
    {
      "cell_type": "markdown",
      "source": [
        "**2.Thêm Drive Vào Colab và tải công cụ từ Github**"
      ],
      "metadata": {
        "id": "yUk3RrFJpsmq"
      }
    },
    {
      "cell_type": "code",
      "execution_count": null,
      "metadata": {
        "id": "eTPcORDLoud0"
      },
      "outputs": [],
      "source": [
        "from google.colab import drive\n",
        "drive.mount('/content/drive')\n",
        "!wget https://github.com/Ralph1114/Fsharenewtool/archive/refs/heads/main.zip\n",
        "!unzip -o main.zip\n",
        "%cd Fsharenewtool-main\n"
      ]
    },
    {
      "cell_type": "markdown",
      "source": [
        "**3.Đăng nhập Fshare**"
      ],
      "metadata": {
        "id": "22tYNouYtYhJ"
      }
    },
    {
      "cell_type": "code",
      "source": [
        "!python login_fshare.py"
      ],
      "metadata": {
        "id": "ZTwE9bpBtiPu"
      },
      "execution_count": null,
      "outputs": []
    },
    {
      "cell_type": "markdown",
      "source": [
        "**4.Tải Fshare**\n",
        "Hướng dẫn: !python f_dl.py \"link fshare\"\n",
        "\n",
        "Có thể chọn link Fshare folder hoặc link từng file tùy theo mục đích của các bạn"
      ],
      "metadata": {
        "id": "ULdjPsVytoWm"
      }
    },
    {
      "cell_type": "code",
      "source": [
        "!python f_dl.py https://www.fshare.vn/folder/"
      ],
      "metadata": {
        "id": "V4UtQ-SQtnwG"
      },
      "execution_count": null,
      "outputs": []
    }
  ]
}