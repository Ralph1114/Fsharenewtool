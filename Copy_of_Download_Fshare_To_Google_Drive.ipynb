{
  "nbformat": 4,
  "nbformat_minor": 0,
  "metadata": {
    "colab": {
      "provenance": [],
      "include_colab_link": true
    },
    "kernelspec": {
      "name": "python3",
      "display_name": "Python 3"
    },
    "language_info": {
      "name": "python"
    }
  },
  "cells": [
    {
      "cell_type": "markdown",
      "metadata": {
        "id": "view-in-github",
        "colab_type": "text"
      },
      "source": [
        "<a href=\"https://colab.research.google.com/github/Ralph1114/Fsharenewtool/blob/main/Copy_of_Download_Fshare_To_Google_Drive.ipynb\" target=\"_parent\"><img src=\"https://colab.research.google.com/assets/colab-badge.svg\" alt=\"Open In Colab\"/></a>"
      ]
    },
    {
      "cell_type": "markdown",
      "source": [
        "**Công Cụ Tải Nhanh Fshare Vào Drive**\n",
        "\n",
        "> Code tham khảo từ: https://github.com/lvdat\n",
        "Và https://github.com/duythongle/fshare2gdrive\n",
        "\n",
        "> Phát triển: [Khánh Vũ]\n",
        "\n"
      ],
      "metadata": {
        "id": "PJN-kp2oo0Q9"
      }
    },
    {
      "cell_type": "markdown",
      "source": [
        "**1.Thêm Drive Vào Colab và tải công cụ từ Github**"
      ],
      "metadata": {
        "id": "yUk3RrFJpsmq"
      }
    },
    {
      "cell_type": "code",
      "execution_count": null,
      "metadata": {
        "id": "eTPcORDLoud0"
      },
      "outputs": [],
      "source": [
        "from google.colab import drive\n",
        "pip install requests==2.31.0 urllib3==1.26.15 charset_normalizer==3.2.0 --force-reinstall\n",
        "drive.mount('/content/drive')\n",
        "!wget https://github.com/Ralph1114/Fsharenewtool/archive/refs/heads/main.zip\n",
        "!unzip -o main.zip\n",
        "%cd Fsharenewtool-main\n",
        "!pip install -r requirements.txt"
      ]
    },
    {
      "cell_type": "markdown",
      "source": [
        "**2.Đăng nhập Fshare**"
      ],
      "metadata": {
        "id": "22tYNouYtYhJ"
      }
    },
    {
      "cell_type": "code",
      "source": [
        "!python login_fshare.py"
      ],
      "metadata": {
        "id": "ZTwE9bpBtiPu"
      },
      "execution_count": null,
      "outputs": []
    },
    {
      "cell_type": "markdown",
      "source": [
        "**3.Tải Fshare**\n",
        "Hướng dẫn: !python f_dl.py \"link fshare\""
      ],
      "metadata": {
        "id": "ULdjPsVytoWm"
      }
    },
    {
      "cell_type": "code",
      "source": [
        "!python f_dl.py https://www.fshare.vn/folder/PH1EP3YBDNXG7DZ"
      ],
      "metadata": {
        "id": "V4UtQ-SQtnwG"
      },
      "execution_count": null,
      "outputs": []
    }
  ]
}